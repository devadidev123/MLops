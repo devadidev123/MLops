{
  "nbformat": 4,
  "nbformat_minor": 0,
  "metadata": {
    "colab": {
      "provenance": []
    },
    "kernelspec": {
      "name": "python3",
      "display_name": "Python 3"
    },
    "language_info": {
      "name": "python"
    }
  },
  "cells": [
    {
      "cell_type": "markdown",
      "source": [
        "ML +Ops=\n",
        "\n",
        "\n",
        "*   development\n",
        "\n",
        "> Gathering data\n",
        "\n",
        "> Validation\n",
        "\n",
        "> EDA\n",
        "\n",
        "> Feature engineering\n",
        "\n",
        "> modeling\n",
        "\n",
        "> evaluation and testing\n",
        "\n",
        "\n",
        "\n",
        "\n",
        "\n",
        "\n",
        "\n",
        "\n",
        "\n",
        "\n",
        "\n",
        "\n",
        "\n",
        "*   Testing\n",
        "*   Quality analysis\n",
        "\n",
        "*   ddelivery\n",
        "*  deployment\n",
        "\n",
        "*   monitoring\n",
        "*So overall is (continous integration,developmemnt,testing,delivery and deployment)\n",
        "\n",
        "\n",
        "\n",
        "\n",
        "\n",
        "\n",
        "\n"
      ],
      "metadata": {
        "id": "4gmAtKKLl5xT"
      }
    },
    {
      "cell_type": "code",
      "execution_count": null,
      "metadata": {
        "id": "3rk7k4fglrlC"
      },
      "outputs": [],
      "source": []
    }
  ]
}